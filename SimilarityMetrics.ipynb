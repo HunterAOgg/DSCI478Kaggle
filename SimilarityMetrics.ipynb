{
 "cells": [
  {
   "cell_type": "code",
   "execution_count": 2,
   "metadata": {},
   "outputs": [],
   "source": [
    "import numpy as np \n",
    "import pandas as pd \n",
    "\n",
    "from transformers import BertTokenizer, TFBertModel\n",
    "import matplotlib.pyplot as plt\n",
    "import tensorflow as tf\n",
    "import seaborn\n",
    "#Yall know what these libraries are all for, seaborn if we want to get fancy with plotting\n",
    "\n",
    "from sklearn import model_selection\n",
    "#Cross validation, test-train split, etc"
   ]
  },
  {
   "cell_type": "code",
   "execution_count": 3,
   "metadata": {},
   "outputs": [],
   "source": [
    "trainRaw = pd.read_csv(\"train.csv\")\n",
    "testRaw = pd.read_csv(\"test.csv\")"
   ]
  },
  {
   "cell_type": "code",
   "execution_count": 4,
   "metadata": {},
   "outputs": [
    {
     "name": "stdout",
     "output_type": "stream",
     "text": [
      "(12120, 6)\n",
      "id                                                   5130fd2cb5\n",
      "premise       and these comments were considered in formulat...\n",
      "hypothesis    The rules developed in the interim were put to...\n",
      "lang_abv                                                     en\n",
      "language                                                English\n",
      "label                                                         0\n",
      "Name: 0, dtype: object\n"
     ]
    }
   ],
   "source": [
    "print(trainRaw.shape)\n",
    "print(trainRaw.iloc[0])"
   ]
  },
  {
   "cell_type": "code",
   "execution_count": 5,
   "metadata": {},
   "outputs": [
    {
     "name": "stdout",
     "output_type": "stream",
     "text": [
      "12120\n"
     ]
    }
   ],
   "source": [
    "#Try with and without space?\n",
    "combined_train_X = [trainRaw.iloc[i,1] + \" \" + trainRaw.iloc[i,2] for i in np.arange(trainRaw.shape[0])]\n",
    "combined_train_y = [trainRaw.iloc[i,-1] for i in np.arange(trainRaw.shape[0])]\n",
    "combined_test_X = [testRaw.iloc[i,1] + testRaw.iloc[i,2] for i in np.arange(testRaw.shape[0])]\n",
    "combined_test_y = [testRaw.iloc[i,-1] for i in np.arange(testRaw.shape[0])]\n",
    "print(len(combined_train_X))"
   ]
  },
  {
   "cell_type": "code",
   "execution_count": 6,
   "metadata": {},
   "outputs": [],
   "source": [
    "import nltk\n",
    "#nltk.download('punkt')\n",
    "from nltk.tokenize import word_tokenize"
   ]
  },
  {
   "cell_type": "code",
   "execution_count": 7,
   "metadata": {},
   "outputs": [],
   "source": [
    "from sklearn.feature_extraction.text import TfidfTransformer\n",
    "from sklearn.feature_extraction.text import CountVectorizer\n",
    "from sklearn.pipeline import Pipeline\n",
    "corpus = ['this is the first document',\n",
    "         'this document is the second document',\n",
    "        'and this is the third one',\n",
    "         'is this the first document']\n",
    "vocabulary = ['this', 'document', 'first', 'is', 'second', 'the',\n",
    "             'and', 'one']\n",
    "pipe = Pipeline([('count', CountVectorizer(vocabulary=vocabulary)),\n",
    "                ('tfid', TfidfTransformer())]).fit(corpus)\n",
    "#print(pipe)"
   ]
  },
  {
   "cell_type": "code",
   "execution_count": 8,
   "metadata": {},
   "outputs": [],
   "source": [
    "#train, test = model_selection.train_test_split(df, test_size = 0.2, random_state = 2023)"
   ]
  },
  {
   "cell_type": "code",
   "execution_count": 9,
   "metadata": {},
   "outputs": [],
   "source": [
    "#def get_sub_accs(df,ys,language=True,category=True):\n",
    "    #for i in "
   ]
  },
  {
   "cell_type": "code",
   "execution_count": 10,
   "metadata": {},
   "outputs": [
    {
     "name": "stdout",
     "output_type": "stream",
     "text": [
      "12120\n",
      "12120\n"
     ]
    }
   ],
   "source": [
    "\n",
    "# cleaning texts\n",
    "import pandas as pd\n",
    "import re\n",
    "import nltk\n",
    "from nltk.corpus import stopwords\n",
    "from nltk.stem.porter import PorterStemmer\n",
    "from sklearn.feature_extraction.text import CountVectorizer\n",
    " \n",
    "'''dataset = [[\"I liked the movie\", \"positive\"],\n",
    "           [\"It’s a good movie. Nice story\", \"positive\"],\n",
    "           [\"Hero’s acting is bad but heroine looks good.\\\n",
    "            Overall nice movie\", \"positive\"],\n",
    "            [\"Nice songs. But sadly boring ending.\", \"negative\"],\n",
    "            [\"sad movie, boring movie\", \"negative\"]]'''\n",
    "             \n",
    "#dataset = pd.DataFrame(dataset)\n",
    "#dataset.columns = [\"Text\", \"Reviews\"]\n",
    " \n",
    "#nltk.download('stopwords')\n",
    " \n",
    "corpus = []\n",
    " \n",
    "for i in range(0, len(combined_train_X)):\n",
    "    text = re.sub('[^a-zA-Z]', '', combined_train_X[i])\n",
    "    text = text.lower()\n",
    "    text = text.split()\n",
    "    ps = PorterStemmer()\n",
    "    text = ''.join(text)\n",
    "    corpus.append(text)\n",
    " \n",
    "# creating bag of words model\n",
    "cv = CountVectorizer(max_features = 1500)\n",
    " \n",
    "X = cv.fit_transform(corpus).toarray()\n",
    "print(len(X))\n",
    "y = combined_train_y#dataset.iloc[:, 1].values\n",
    "print(len(y))"
   ]
  },
  {
   "cell_type": "code",
   "execution_count": 11,
   "metadata": {},
   "outputs": [],
   "source": [
    "\n",
    "# splitting the data set into training set and test set\n",
    " \n",
    "X_train, X_test, y_train, y_test = model_selection.train_test_split(\n",
    "           X, y, test_size = 0.2, random_state = 2023)"
   ]
  },
  {
   "cell_type": "code",
   "execution_count": 12,
   "metadata": {},
   "outputs": [],
   "source": [
    "english_train = trainRaw[trainRaw[\"language\"] == \"English\"]\n",
    "lastDf = english_train\n",
    "english_train_X = [lastDf.iloc[i,1] + \" \" + lastDf.iloc[i,2] for i in np.arange(lastDf.shape[0])]\n",
    "english_train_y = [lastDf.iloc[i,-1] for i in np.arange(lastDf.shape[0])]\n",
    "no_2_train = trainRaw[trainRaw[\"label\"] !=2]\n",
    "lastDf = no_2_train\n",
    "no_2_X = [lastDf.iloc[i,1] + lastDf.iloc[i,2] for i in np.arange(lastDf.shape[0])]\n",
    "no_2_y = [lastDf.iloc[i,-1] for i in np.arange(lastDf.shape[0])]\n",
    "neutralornot_train = trainRaw.copy()\n",
    "neutralornot_train[neutralornot_train.iloc[:,-1] == 2] = 0\n",
    "lastDf = neutralornot_train\n",
    "neutralornot_X = [lastDf.iloc[i,1] + lastDf.iloc[i,2] for i in np.arange(lastDf.shape[0])]\n",
    "neutralornot_y = [lastDf.iloc[i,-1] for i in np.arange(lastDf.shape[0])]\n",
    "\n",
    "#print(no_2_y[0])"
   ]
  },
  {
   "cell_type": "code",
   "execution_count": 13,
   "metadata": {},
   "outputs": [],
   "source": [
    "from sklearn.metrics import confusion_matrix\n",
    "from sklearn.naive_bayes import GaussianNB\n",
    "\n",
    "\n",
    "def naive_bayes_model(X,y,size_test=0.2):\n",
    "    \n",
    "    corpus = []\n",
    " \n",
    "    for i in range(0, len(X)):\n",
    "       text = re.sub('[^a-zA-Z]', '', combined_train_X[i])\n",
    "       text = text.lower()\n",
    "       text = text.split()\n",
    "       ps = PorterStemmer()\n",
    "       text = ''.join(text)\n",
    "       corpus.append(text)\n",
    " \n",
    "       # creating bag of words model\n",
    "    cv = CountVectorizer(max_features = 1500)\n",
    "       \n",
    "    X = cv.fit_transform(corpus).toarray()\n",
    "    X_train, X_test, y_train, y_test = model_selection.train_test_split(\n",
    "           X, y, test_size = size_test, random_state = 2023)\n",
    "    classifier = GaussianNB();\n",
    "    classifier = RandomForestClassifier();\n",
    "    #print(y_train)\n",
    "    classifier.fit(X_train, y_train)\n",
    "    \n",
    "    # predicting test set results\n",
    "    y_pred = classifier.predict(X_test)\n",
    "    \n",
    "    # making the confusion matrix\n",
    "    cm = confusion_matrix(y_test, y_pred)\n",
    "    print(cm)\n",
    "    print(np.mean(y_test == y_pred))"
   ]
  },
  {
   "cell_type": "code",
   "execution_count": 14,
   "metadata": {},
   "outputs": [
    {
     "name": "stdout",
     "output_type": "stream",
     "text": [
      "6870\n",
      "6870\n"
     ]
    },
    {
     "ename": "NameError",
     "evalue": "name 'RandomForestClassifier' is not defined",
     "output_type": "error",
     "traceback": [
      "\u001b[1;31m---------------------------------------------------------------------------\u001b[0m",
      "\u001b[1;31mNameError\u001b[0m                                 Traceback (most recent call last)",
      "Cell \u001b[1;32mIn[14], line 3\u001b[0m\n\u001b[0;32m      1\u001b[0m \u001b[39mprint\u001b[39m(\u001b[39mlen\u001b[39m(english_train))\n\u001b[0;32m      2\u001b[0m \u001b[39mprint\u001b[39m(\u001b[39mlen\u001b[39m(english_train_y))\n\u001b[1;32m----> 3\u001b[0m naive_bayes_model(english_train_X,english_train_y,size_test\u001b[39m=\u001b[39;49m\u001b[39m0.05\u001b[39;49m)\n\u001b[0;32m      4\u001b[0m naive_bayes_model(no_2_X,no_2_y)\n\u001b[0;32m      5\u001b[0m naive_bayes_model(neutralornot_X,neutralornot_y)\n",
      "Cell \u001b[1;32mIn[13], line 24\u001b[0m, in \u001b[0;36mnaive_bayes_model\u001b[1;34m(X, y, size_test)\u001b[0m\n\u001b[0;32m     21\u001b[0m X_train, X_test, y_train, y_test \u001b[39m=\u001b[39m model_selection\u001b[39m.\u001b[39mtrain_test_split(\n\u001b[0;32m     22\u001b[0m        X, y, test_size \u001b[39m=\u001b[39m size_test, random_state \u001b[39m=\u001b[39m \u001b[39m2023\u001b[39m)\n\u001b[0;32m     23\u001b[0m classifier \u001b[39m=\u001b[39m GaussianNB();\n\u001b[1;32m---> 24\u001b[0m classifier \u001b[39m=\u001b[39m RandomForestClassifier();\n\u001b[0;32m     25\u001b[0m \u001b[39m#print(y_train)\u001b[39;00m\n\u001b[0;32m     26\u001b[0m classifier\u001b[39m.\u001b[39mfit(X_train, y_train)\n",
      "\u001b[1;31mNameError\u001b[0m: name 'RandomForestClassifier' is not defined"
     ]
    }
   ],
   "source": [
    "print(len(english_train))\n",
    "print(len(english_train_y))\n",
    "naive_bayes_model(english_train_X,english_train_y,size_test=0.05)\n",
    "naive_bayes_model(no_2_X,no_2_y)\n",
    "naive_bayes_model(neutralornot_X,neutralornot_y)"
   ]
  },
  {
   "cell_type": "code",
   "execution_count": null,
   "metadata": {},
   "outputs": [
    {
     "name": "stdout",
     "output_type": "stream",
     "text": [
      "[[  0   4 832]\n",
      " [  4   3 774]\n",
      " [  4   4 799]]\n",
      "0.33085808580858084\n"
     ]
    }
   ],
   "source": [
    "\n",
    "# fitting naive bayes to the training set\n",
    "\n",
    "classifier = GaussianNB();\n",
    "classifier.fit(X_train, y_train)\n",
    " \n",
    "# predicting test set results\n",
    "y_pred = classifier.predict(X_test)\n",
    " \n",
    "# making the confusion matrix\n",
    "cm = confusion_matrix(y_test, y_pred)\n",
    "print(cm)\n",
    "print(np.mean(y_test == y_pred))"
   ]
  },
  {
   "cell_type": "code",
   "execution_count": null,
   "metadata": {},
   "outputs": [],
   "source": [
    "import pandas as pd\n",
    "from sklearn.feature_extraction.text import CountVectorizer\n",
    "from sklearn.feature_extraction.text import TfidfTransformer\n",
    "from sklearn.model_selection import train_test_split\n",
    "from sklearn.naive_bayes import MultinomialNB\n",
    "from sklearn.metrics import confusion_matrix\n",
    "\n",
    "#from google.colab import drive\n",
    "#drive.mount('/content/drive')\n",
    "\n",
    "#dataset_path = \"/content/drive/MyDrive/Datasets/amazon_cells_labelled.txt\"\n",
    "#data = pd.read_csv(dataset_path, sep=\"\\t\", header=None)\n",
    "#data.head(10)\n",
    "\n",
    "#X = data.iloc[:,0]\n",
    "#X\n",
    "\n",
    "#y = data.iloc[:,-1]\n",
    "#y\n",
    "\n",
    "vectorizer = CountVectorizer(stop_words='english')\n",
    "X_vec = vectorizer.fit_transform(english_train_X)\n",
    "X_vec = X_vec.todense()\n",
    "X_vec = np.array(X_vec)\n",
    "#print(X_vec)\n",
    "#print(type(X_vec))\n",
    "tfidf = TfidfTransformer(smooth_idf=True,use_idf=True) # by default applies \"l2\" normalization\n",
    "X_tfidf = tfidf.fit_transform(X_vec)\n",
    "X_tfidf = X_tfidf.todense()\n",
    "X_tfidf\n",
    "\n",
    "X_train, X_test, y_train, y_test = train_test_split(X_tfidf, english_train_y, \n",
    "                                                    test_size = 0.25, \n",
    "                                                    random_state = 0)\n",
    "X_train = np.array(X_train)\n",
    "X_test = np.array(X_test)\n",
    "clf = MultinomialNB()\n",
    "clf.fit(X_train, y_train)\n",
    "\n",
    "y_pred = clf.predict(X_test)\n"
   ]
  },
  {
   "cell_type": "code",
   "execution_count": null,
   "metadata": {},
   "outputs": [
    {
     "name": "stdout",
     "output_type": "stream",
     "text": [
      "[[176 189 238]\n",
      " [275  63 191]\n",
      " [331 175  80]]\n",
      "0.18568102444703144\n",
      "[[  0 238 365]\n",
      " [  0 191 338]\n",
      " [  0  80 506]]\n",
      "0.40570430733410945\n",
      "[[189 238 176]\n",
      " [ 63 191 275]\n",
      " [175  80 331]]\n",
      "0.4138533178114086\n",
      "[[238 176 189]\n",
      " [191 275  63]\n",
      " [ 80 331 175]]\n",
      "0.40046565774155995\n"
     ]
    }
   ],
   "source": [
    "print(confusion_matrix(y_test, y_pred))\n",
    "print(np.mean(y_test == y_pred))\n",
    "\n",
    "y_pred_new = y_pred.copy()\n",
    "np.random.seed(2023)\n",
    "y_pred_new[y_pred==0] = np.random.choice([1,2])\n",
    "y_pred_new[y_pred==1] = np.random.choice([0,2])\n",
    "y_pred_new[y_pred==2] = np.random.choice([1,0])\n",
    "print(confusion_matrix(y_test, y_pred_new))\n",
    "print(np.mean(y_test == y_pred_new))\n",
    "\n",
    "np.random.seed(252)\n",
    "y_pred_new[y_pred==0] = np.random.choice([1,2])\n",
    "y_pred_new[y_pred==1] = np.random.choice([0,2])\n",
    "y_pred_new[y_pred==2] = np.random.choice([1,0])\n",
    "print(confusion_matrix(y_test, y_pred_new))\n",
    "print(np.mean(y_test == y_pred_new))\n",
    "\n",
    "np.random.seed(2)\n",
    "y_pred_new[y_pred==0] = np.random.choice([1,2])\n",
    "y_pred_new[y_pred==1] = np.random.choice([0,2])\n",
    "y_pred_new[y_pred==2] = np.random.choice([1,0])\n",
    "print(confusion_matrix(y_test, y_pred_new))\n",
    "print(np.mean(y_test == y_pred_new))"
   ]
  },
  {
   "cell_type": "code",
   "execution_count": null,
   "metadata": {},
   "outputs": [],
   "source": [
    "from collections import Counter\n",
    "import itertools\n",
    "def get_most_common_words(X,y):\n",
    "    X = np.array(X)\n",
    "    y = np.array(y)\n",
    "    #print(X[y==0])\n",
    "\n",
    "    '''common_0 = np.array([i.split() for i in X[y==0]]).flatten()\n",
    "    common_0 = list(itertools.chain.from_iterable(common_0))\n",
    "    common_1 = np.array([i.split() for i in X[y==1]]).flatten()\n",
    "    common_1 = list(itertools.chain.from_iterable(common_1))\n",
    "    common_2 = np.array([i.split() for i in X[y[:]==2]]).flatten()\n",
    "    common_2 = list(itertools.chain.from_iterable(common_2))'''\n",
    "    common_0_1 = np.array([i.split() for i in trainRaw[y==0].iloc[:,1]]).flatten()\n",
    "    common_0_1 = list(itertools.chain.from_iterable(common_0_1))\n",
    "    common_0_2 = np.array([i.split() for i in trainRaw[y==0].iloc[:,2]]).flatten()\n",
    "    common_0_2 = list(itertools.chain.from_iterable(common_0_2))\n",
    "    common_1_1 = np.array([i.split() for i in trainRaw[y==1].iloc[:,1]]).flatten()\n",
    "    common_1_1 = list(itertools.chain.from_iterable(common_1_1))\n",
    "    common_1_2 = np.array([i.split() for i in trainRaw[y==1].iloc[:,2]]).flatten()\n",
    "    common_1_2 = list(itertools.chain.from_iterable(common_1_2))\n",
    "    common_2_1 = np.array([i.split() for i in trainRaw[y==2].iloc[:,1]]).flatten()\n",
    "    common_2_1 = list(itertools.chain.from_iterable(common_2_1))\n",
    "    common_2_2 = np.array([i.split() for i in trainRaw[y==2].iloc[:,2]]).flatten()\n",
    "    common_2_2 = list(itertools.chain.from_iterable(common_2_2))\n",
    "    # split() returns list of all the words in the string\n",
    "    #split_it = data_set.split()\n",
    "    #print(common_0)\n",
    "    # Pass the split_it list to instance of Counter class.\n",
    "    counter_0_1 = Counter(common_0_1)\n",
    "    counter_0_2 = Counter(common_0_2)\n",
    "    counter_1_1 = Counter(common_1_1)\n",
    "    counter_1_2 = Counter(common_1_2)\n",
    "    counter_2_1 = Counter(common_2_1)\n",
    "    counter_2_2 = Counter(common_2_2)\n",
    "    #print(Counters)\n",
    "\n",
    "    # most_common() produces k frequently encountered\n",
    "    # input values and their respective counts.\n",
    "    occur_0_1 = counter_0_1.most_common(50)\n",
    "    occur_0_1 = set([i[0] for i in occur_0_1])\n",
    "    occur_0_2 = counter_0_2.most_common(50)\n",
    "    occur_0_2 = set([i[0] for i in occur_0_2])\n",
    "    occur_1_1 = counter_1_1.most_common(50)\n",
    "    occur_1_1 = set([i[0] for i in occur_1_1])\n",
    "    occur_1_2 = counter_1_2.most_common(50)\n",
    "    occur_1_2 = set([i[0] for i in occur_1_2])\n",
    "    occur_2_1 = counter_2_1.most_common(50)\n",
    "    occur_2_1 = set([i[0] for i in occur_2_1])\n",
    "    occur_2_2 = counter_2_2.most_common(50)\n",
    "    occur_2_2 = set([i[0] for i in occur_2_2])\n",
    "    #print(occur_0)\n",
    "    #occur_1 = set(list(counter_1.most_common(100).keys()))#set(counter_1.most_common(100))\n",
    "    #print(occur_1)\n",
    "    #occur_2 = set(list(counter_2.most_common(100).keys()))#set(counter_2.most_common(100))\n",
    "    #print(occur_2)\n",
    "    #print(occur_0)\n",
    "    #print(occur_1)\n",
    "    #print(occur_2)\n",
    "    #print(occur_0.difference(occur_1) ^ occur_0.difference(occur_2))\n",
    "    #print(occur_1.difference(occur_0) ^ occur_0.difference(occur_2))\n",
    "    #print(occur_2.difference(occur_0) ^ occur_0.difference(occur_1))\n",
    "    print(occur_0_1.difference(occur_0_2))\n",
    "    print(occur_0_2.difference(occur_0_1))\n",
    "    print(occur_1_1.difference(occur_1_2))\n",
    "    print(occur_1_2.difference(occur_1_1))\n",
    "    print(occur_2_1.difference(occur_2_2))\n",
    "    print(occur_2_2.difference(occur_2_1))"
   ]
  },
  {
   "cell_type": "code",
   "execution_count": null,
   "metadata": {},
   "outputs": [
    {
     "name": "stdout",
     "output_type": "stream",
     "text": [
      "['A', 'E', 'I']\n"
     ]
    }
   ],
   "source": [
    "A = set([\"I\", \"A\", \"E\"])\n",
    "B = set([\"B\",\"E\",\"C\"])\n",
    "A.difference(B)\n",
    "occur_A = Counter(A).most_common(3)\n",
    "occur_A = [i[0] for i in occur_A]\n",
    "print(occur_A)\n",
    "#print(occur_A.keys())"
   ]
  },
  {
   "cell_type": "code",
   "execution_count": null,
   "metadata": {},
   "outputs": [
    {
     "name": "stdout",
     "output_type": "stream",
     "text": [
      "6870\n",
      "6870\n"
     ]
    },
    {
     "ename": "ValueError",
     "evalue": "Item wrong length 6870 instead of 12120.",
     "output_type": "error",
     "traceback": [
      "\u001b[1;31m---------------------------------------------------------------------------\u001b[0m",
      "\u001b[1;31mValueError\u001b[0m                                Traceback (most recent call last)",
      "Cell \u001b[1;32mIn[19], line 4\u001b[0m\n\u001b[0;32m      2\u001b[0m \u001b[39mprint\u001b[39m(\u001b[39mlen\u001b[39m(english_train_X))\n\u001b[0;32m      3\u001b[0m \u001b[39mprint\u001b[39m(\u001b[39mlen\u001b[39m(english_train_y))\n\u001b[1;32m----> 4\u001b[0m get_most_common_words(english_train_X,english_train_y)\n",
      "Cell \u001b[1;32mIn[17], line 14\u001b[0m, in \u001b[0;36mget_most_common_words\u001b[1;34m(X, y)\u001b[0m\n\u001b[0;32m      6\u001b[0m \u001b[39m#print(X[y==0])\u001b[39;00m\n\u001b[0;32m      8\u001b[0m \u001b[39m\u001b[39m\u001b[39m'''common_0 = np.array([i.split() for i in X[y==0]]).flatten()\u001b[39;00m\n\u001b[0;32m      9\u001b[0m \u001b[39mcommon_0 = list(itertools.chain.from_iterable(common_0))\u001b[39;00m\n\u001b[0;32m     10\u001b[0m \u001b[39mcommon_1 = np.array([i.split() for i in X[y==1]]).flatten()\u001b[39;00m\n\u001b[0;32m     11\u001b[0m \u001b[39mcommon_1 = list(itertools.chain.from_iterable(common_1))\u001b[39;00m\n\u001b[0;32m     12\u001b[0m \u001b[39mcommon_2 = np.array([i.split() for i in X[y[:]==2]]).flatten()\u001b[39;00m\n\u001b[0;32m     13\u001b[0m \u001b[39mcommon_2 = list(itertools.chain.from_iterable(common_2))'''\u001b[39;00m\n\u001b[1;32m---> 14\u001b[0m common_0_1 \u001b[39m=\u001b[39m np\u001b[39m.\u001b[39marray([i\u001b[39m.\u001b[39msplit() \u001b[39mfor\u001b[39;00m i \u001b[39min\u001b[39;00m trainRaw[y\u001b[39m==\u001b[39;49m\u001b[39m0\u001b[39;49m]\u001b[39m.\u001b[39miloc[:,\u001b[39m1\u001b[39m]])\u001b[39m.\u001b[39mflatten()\n\u001b[0;32m     15\u001b[0m common_0_1 \u001b[39m=\u001b[39m \u001b[39mlist\u001b[39m(itertools\u001b[39m.\u001b[39mchain\u001b[39m.\u001b[39mfrom_iterable(common_0_1))\n\u001b[0;32m     16\u001b[0m common_0_2 \u001b[39m=\u001b[39m np\u001b[39m.\u001b[39marray([i\u001b[39m.\u001b[39msplit() \u001b[39mfor\u001b[39;00m i \u001b[39min\u001b[39;00m trainRaw[y\u001b[39m==\u001b[39m\u001b[39m0\u001b[39m]\u001b[39m.\u001b[39miloc[:,\u001b[39m2\u001b[39m]])\u001b[39m.\u001b[39mflatten()\n",
      "File \u001b[1;32mc:\\Users\\hunte\\AppData\\Local\\Programs\\Python\\Python311\\Lib\\site-packages\\pandas\\core\\frame.py:3796\u001b[0m, in \u001b[0;36mDataFrame.__getitem__\u001b[1;34m(self, key)\u001b[0m\n\u001b[0;32m   3794\u001b[0m \u001b[39m# Do we have a (boolean) 1d indexer?\u001b[39;00m\n\u001b[0;32m   3795\u001b[0m \u001b[39mif\u001b[39;00m com\u001b[39m.\u001b[39mis_bool_indexer(key):\n\u001b[1;32m-> 3796\u001b[0m     \u001b[39mreturn\u001b[39;00m \u001b[39mself\u001b[39;49m\u001b[39m.\u001b[39;49m_getitem_bool_array(key)\n\u001b[0;32m   3798\u001b[0m \u001b[39m# We are left with two options: a single key, and a collection of keys,\u001b[39;00m\n\u001b[0;32m   3799\u001b[0m \u001b[39m# We interpret tuples as collections only for non-MultiIndex\u001b[39;00m\n\u001b[0;32m   3800\u001b[0m is_single_key \u001b[39m=\u001b[39m \u001b[39misinstance\u001b[39m(key, \u001b[39mtuple\u001b[39m) \u001b[39mor\u001b[39;00m \u001b[39mnot\u001b[39;00m is_list_like(key)\n",
      "File \u001b[1;32mc:\\Users\\hunte\\AppData\\Local\\Programs\\Python\\Python311\\Lib\\site-packages\\pandas\\core\\frame.py:3843\u001b[0m, in \u001b[0;36mDataFrame._getitem_bool_array\u001b[1;34m(self, key)\u001b[0m\n\u001b[0;32m   3837\u001b[0m     warnings\u001b[39m.\u001b[39mwarn(\n\u001b[0;32m   3838\u001b[0m         \u001b[39m\"\u001b[39m\u001b[39mBoolean Series key will be reindexed to match DataFrame index.\u001b[39m\u001b[39m\"\u001b[39m,\n\u001b[0;32m   3839\u001b[0m         \u001b[39mUserWarning\u001b[39;00m,\n\u001b[0;32m   3840\u001b[0m         stacklevel\u001b[39m=\u001b[39mfind_stack_level(),\n\u001b[0;32m   3841\u001b[0m     )\n\u001b[0;32m   3842\u001b[0m \u001b[39melif\u001b[39;00m \u001b[39mlen\u001b[39m(key) \u001b[39m!=\u001b[39m \u001b[39mlen\u001b[39m(\u001b[39mself\u001b[39m\u001b[39m.\u001b[39mindex):\n\u001b[1;32m-> 3843\u001b[0m     \u001b[39mraise\u001b[39;00m \u001b[39mValueError\u001b[39;00m(\n\u001b[0;32m   3844\u001b[0m         \u001b[39mf\u001b[39m\u001b[39m\"\u001b[39m\u001b[39mItem wrong length \u001b[39m\u001b[39m{\u001b[39;00m\u001b[39mlen\u001b[39m(key)\u001b[39m}\u001b[39;00m\u001b[39m instead of \u001b[39m\u001b[39m{\u001b[39;00m\u001b[39mlen\u001b[39m(\u001b[39mself\u001b[39m\u001b[39m.\u001b[39mindex)\u001b[39m}\u001b[39;00m\u001b[39m.\u001b[39m\u001b[39m\"\u001b[39m\n\u001b[0;32m   3845\u001b[0m     )\n\u001b[0;32m   3847\u001b[0m \u001b[39m# check_bool_indexer will throw exception if Series key cannot\u001b[39;00m\n\u001b[0;32m   3848\u001b[0m \u001b[39m# be reindexed to match DataFrame rows\u001b[39;00m\n\u001b[0;32m   3849\u001b[0m key \u001b[39m=\u001b[39m check_bool_indexer(\u001b[39mself\u001b[39m\u001b[39m.\u001b[39mindex, key)\n",
      "\u001b[1;31mValueError\u001b[0m: Item wrong length 6870 instead of 12120."
     ]
    }
   ],
   "source": [
    "#print(english_train_X[0].split())\n",
    "print(len(english_train_X))\n",
    "print(len(english_train_y))\n",
    "get_most_common_words(english_train_X,english_train_y)"
   ]
  },
  {
   "cell_type": "code",
   "execution_count": 18,
   "metadata": {},
   "outputs": [
    {
     "name": "stdout",
     "output_type": "stream",
     "text": [
      "107.30052681992338\n",
      "52.67768199233716\n",
      "107.46855670103093\n",
      "58.116494845360826\n",
      "107.35679133858268\n",
      "51.10752952755905\n",
      "2.2014549781294996\n",
      "2.016641917209511\n",
      "2.2714242750126044\n"
     ]
    },
    {
     "data": {
      "text/plain": [
       "(array([1.460e+03, 1.528e+03, 6.430e+02, 2.650e+02, 9.700e+01, 3.100e+01,\n",
       "        1.700e+01, 8.000e+00, 7.000e+00, 4.000e+00, 1.000e+00, 0.000e+00,\n",
       "        1.000e+00, 1.000e+00, 0.000e+00, 0.000e+00, 0.000e+00, 0.000e+00,\n",
       "        0.000e+00, 1.000e+00]),\n",
       " array([ 0.18181818,  1.47948403,  2.77714988,  4.07481572,  5.37248157,\n",
       "         6.67014742,  7.96781327,  9.26547912, 10.56314496, 11.86081081,\n",
       "        13.15847666, 14.45614251, 15.75380835, 17.0514742 , 18.34914005,\n",
       "        19.6468059 , 20.94447174, 22.24213759, 23.53980344, 24.83746929,\n",
       "        26.13513514]),\n",
       " <BarContainer object of 20 artists>)"
      ]
     },
     "execution_count": 18,
     "metadata": {},
     "output_type": "execute_result"
    },
    {
     "data": {
      "image/png": "[encoded data removed]",
      "text/plain": [
       "<Figure size 640x480 with 1 Axes>"
      ]
     },
     "metadata": {},
     "output_type": "display_data"
    }
   ],
   "source": [
    "#train_0 = train\n",
    "#train_1 = \n",
    "#train_2 = \n",
    "#len_1_0 = [len(i) for i in train0.iloc[,1]]\n",
    "len_1_0 = np.array([len(i) for i in trainRaw[trainRaw[\"label\"]==0].iloc[:,1]])\n",
    "len_2_0 = np.array([len(i) for i in trainRaw[trainRaw[\"label\"]==0].iloc[:,2]])\n",
    "len_1_1 = np.array([len(i) for i in trainRaw[trainRaw[\"label\"]==1].iloc[:,1]])\n",
    "len_2_1 = np.array([len(i) for i in trainRaw[trainRaw[\"label\"]==1].iloc[:,2]])\n",
    "len_1_2 = np.array([len(i) for i in trainRaw[trainRaw[\"label\"]==2].iloc[:,1]])\n",
    "len_2_2 = np.array([len(i) for i in trainRaw[trainRaw[\"label\"]==2].iloc[:,2]])\n",
    "rat_0 = len_1_0/len_2_0\n",
    "rat_1 = len_1_1/len_2_1\n",
    "rat_2 = len_1_2/len_2_2\n",
    "\n",
    "#combined_train_X = [trainRaw.iloc[i,1] + \" \" + trainRaw.iloc[i,2] for i in np.arange(trainRaw.shape[0])]\n",
    "print(np.mean(len_1_0))\n",
    "print(np.mean(len_2_0))\n",
    "print(np.mean(len_1_1))\n",
    "print(np.mean(len_2_1))\n",
    "print(np.mean(len_1_2))\n",
    "print(np.mean(len_2_2))\n",
    "print(np.mean(rat_0))\n",
    "print(np.mean(rat_1))\n",
    "print(np.mean(rat_2))\n",
    "plt.hist(rat_0,bins=20,alpha=0.5)\n",
    "plt.hist(rat_1,bins=20,alpha=0.5)\n",
    "plt.hist(rat_2,bins=20,alpha=0.5)"
   ]
  },
  {
   "cell_type": "code",
   "execution_count": 19,
   "metadata": {},
   "outputs": [
    {
     "data": {
      "text/plain": [
       "(array([1.000e+00, 1.000e+00, 2.000e+00, 5.000e+00, 8.000e+00, 1.800e+01,\n",
       "        4.100e+01, 9.700e+01, 1.080e+02, 2.840e+02, 2.805e+03, 3.360e+02,\n",
       "        2.020e+02, 5.600e+01, 3.400e+01, 2.600e+01, 1.100e+01, 1.200e+01,\n",
       "        1.100e+01, 6.000e+00]),\n",
       " array([-2.     , -1.80625, -1.6125 , -1.41875, -1.225  , -1.03125,\n",
       "        -0.8375 , -0.64375, -0.45   , -0.25625, -0.0625 ,  0.13125,\n",
       "         0.325  ,  0.51875,  0.7125 ,  0.90625,  1.1    ,  1.29375,\n",
       "         1.4875 ,  1.68125,  1.875  ]),\n",
       " <BarContainer object of 20 artists>)"
      ]
     },
     "execution_count": 19,
     "metadata": {},
     "output_type": "execute_result"
    },
    {
     "data": {
      "image/png": "[encoded data removed]",
      "text/plain": [
       "<Figure size 640x480 with 1 Axes>"
      ]
     },
     "metadata": {},
     "output_type": "display_data"
    }
   ],
   "source": [
    "#sent_0 = dtf[column].apply(lambda x: \n",
    "#                   TextBlob(x).sentiment.polarity)\n",
    "from textblob import TextBlob\n",
    "#np.array([len(i) for i in trainRaw[trainRaw[\"label\"]==0].iloc[:,1]])\n",
    "sent_1_0 = np.array([TextBlob(i).sentiment.polarity for i in trainRaw[trainRaw[\"label\"]==0].iloc[:,1]])\n",
    "sent_2_0 = np.array([TextBlob(i).sentiment.polarity for i in trainRaw[trainRaw[\"label\"]==0].iloc[:,2]])\n",
    "sent_1_1 = np.array([TextBlob(i).sentiment.polarity for i in trainRaw[trainRaw[\"label\"]==1].iloc[:,1]])\n",
    "sent_2_1 = np.array([TextBlob(i).sentiment.polarity for i in trainRaw[trainRaw[\"label\"]==1].iloc[:,2]])\n",
    "sent_1_2 = np.array([TextBlob(i).sentiment.polarity for i in trainRaw[trainRaw[\"label\"]==2].iloc[:,1]])\n",
    "sent_2_2 = np.array([TextBlob(i).sentiment.polarity for i in trainRaw[trainRaw[\"label\"]==2].iloc[:,2]])\n",
    "dif_0 = sent_1_0 - sent_2_0\n",
    "dif_1 = sent_1_1 - sent_2_1\n",
    "dif_2 = sent_1_2 - sent_2_2\n",
    "plt.hist(dif_0,bins=20,alpha=0.5)\n",
    "plt.hist(dif_1,bins=20,alpha=0.5)\n",
    "plt.hist(dif_2,bins=20,alpha=0.5)"
   ]
  },
  {
   "cell_type": "code",
   "execution_count": 20,
   "metadata": {},
   "outputs": [
    {
     "data": {
      "text/plain": [
       "<matplotlib.legend.Legend at 0x1884c303610>"
      ]
     },
     "execution_count": 20,
     "metadata": {},
     "output_type": "execute_result"
    },
    {
     "data": {
      "image/png": "[encoded data removed]",
      "text/plain": [
       "<Figure size 640x480 with 1 Axes>"
      ]
     },
     "metadata": {},
     "output_type": "display_data"
    }
   ],
   "source": [
    "plt.hist(sent_1_0,bins=30,alpha=0.3)\n",
    "plt.hist(sent_2_0,bins=30,alpha=0.3)\n",
    "plt.hist(sent_1_1,bins=30,alpha=0.3)\n",
    "plt.hist(sent_1_1,bins=30,alpha=0.3)\n",
    "plt.hist(sent_2_2,bins=30,alpha=0.3)\n",
    "plt.hist(sent_1_2,bins=30,alpha=0.3)\n",
    "plt.xlabel(\"Sentiment Score (From TextBlob)\")\n",
    "plt.ylabel(\"Number of Counts\")\n",
    "plt.legend([\"Premise 1\", \"Hypothesis 1\",\"Premise 2\", \"Hypothesis 2\",\"Premise 3\", \"Hypothesis 3\"])"
   ]
  },
  {
   "cell_type": "code",
   "execution_count": 21,
   "metadata": {},
   "outputs": [
    {
     "name": "stdout",
     "output_type": "stream",
     "text": [
      "[[0 0 0 ... 0 0 0]\n",
      " [0 0 0 ... 0 0 0]\n",
      " [0 0 0 ... 0 0 0]\n",
      " ...\n",
      " [0 0 0 ... 0 0 0]\n",
      " [0 0 0 ... 0 0 0]\n",
      " [0 0 0 ... 0 0 0]]\n",
      "(12120, 15)\n"
     ]
    }
   ],
   "source": [
    "from sklearn.ensemble import RandomForestClassifier\n",
    "from sklearn.model_selection import cross_val_score\n",
    "rf = RandomForestClassifier(n_estimators=50)\n",
    "sent_1_arr = np.array([TextBlob(i).sentiment.polarity for i in trainRaw.iloc[:,1]])\n",
    "sent_2_arr = np.array([TextBlob(i).sentiment.polarity for i in trainRaw.iloc[:,2]])\n",
    "len_1_arr = np.array([len(i) for i in trainRaw.iloc[:,1]])\n",
    "len_2_arr = np.array([len(i) for i in trainRaw.iloc[:,2]])\n",
    "lang_arr = np.array(pd.get_dummies(trainRaw.iloc[:,-2]))\n",
    "print(lang_arr)\n",
    "print(lang_arr.shape)\n",
    "X_eng = np.array((sent_1_arr,sent_2_arr,len_1_arr,len_2_arr,*(lang_arr.T)))\n",
    "#for i in X_eng:\n",
    "    #print(i.shape)\n",
    "X_eng = np.array((sent_1_arr,sent_2_arr,len_1_arr,len_2_arr))\n"
   ]
  },
  {
   "cell_type": "code",
   "execution_count": 22,
   "metadata": {},
   "outputs": [
    {
     "name": "stdout",
     "output_type": "stream",
     "text": [
      "(4, 12120)\n",
      "12120\n",
      "0.3500825082508251\n"
     ]
    }
   ],
   "source": [
    "print(X_eng.shape)\n",
    "print(len(y))\n",
    "test_val_rf = np.mean(cross_val_score(rf, X_eng.T, y, cv=20,n_jobs=-1))\n",
    "print(test_val_rf)"
   ]
  },
  {
   "cell_type": "code",
   "execution_count": 23,
   "metadata": {},
   "outputs": [
    {
     "ename": "ValueError",
     "evalue": "Found input variables with inconsistent numbers of samples: [4, 12120]",
     "output_type": "error",
     "traceback": [
      "\u001b[1;31m---------------------------------------------------------------------------\u001b[0m",
      "\u001b[1;31mValueError\u001b[0m                                Traceback (most recent call last)",
      "Cell \u001b[1;32mIn[23], line 3\u001b[0m\n\u001b[0;32m      1\u001b[0m \u001b[39mfrom\u001b[39;00m \u001b[39msklearn\u001b[39;00m\u001b[39m.\u001b[39;00m\u001b[39mtree\u001b[39;00m \u001b[39mimport\u001b[39;00m export_graphviz\n\u001b[0;32m      2\u001b[0m \u001b[39m# Export as dot file\u001b[39;00m\n\u001b[1;32m----> 3\u001b[0m rf\u001b[39m.\u001b[39;49mfit(X_eng,y)\n\u001b[0;32m      4\u001b[0m feat_imp \u001b[39m=\u001b[39m rf\u001b[39m.\u001b[39mfeature_importances_\n\u001b[0;32m      5\u001b[0m fig, ax \u001b[39m=\u001b[39m plt\u001b[39m.\u001b[39msubplots() \n",
      "File \u001b[1;32mc:\\Users\\hunte\\AppData\\Local\\Programs\\Python\\Python311\\Lib\\site-packages\\sklearn\\ensemble\\_forest.py:346\u001b[0m, in \u001b[0;36mBaseForest.fit\u001b[1;34m(self, X, y, sample_weight)\u001b[0m\n\u001b[0;32m    344\u001b[0m \u001b[39mif\u001b[39;00m issparse(y):\n\u001b[0;32m    345\u001b[0m     \u001b[39mraise\u001b[39;00m \u001b[39mValueError\u001b[39;00m(\u001b[39m\"\u001b[39m\u001b[39msparse multilabel-indicator for y is not supported.\u001b[39m\u001b[39m\"\u001b[39m)\n\u001b[1;32m--> 346\u001b[0m X, y \u001b[39m=\u001b[39m \u001b[39mself\u001b[39;49m\u001b[39m.\u001b[39;49m_validate_data(\n\u001b[0;32m    347\u001b[0m     X, y, multi_output\u001b[39m=\u001b[39;49m\u001b[39mTrue\u001b[39;49;00m, accept_sparse\u001b[39m=\u001b[39;49m\u001b[39m\"\u001b[39;49m\u001b[39mcsc\u001b[39;49m\u001b[39m\"\u001b[39;49m, dtype\u001b[39m=\u001b[39;49mDTYPE\n\u001b[0;32m    348\u001b[0m )\n\u001b[0;32m    349\u001b[0m \u001b[39mif\u001b[39;00m sample_weight \u001b[39mis\u001b[39;00m \u001b[39mnot\u001b[39;00m \u001b[39mNone\u001b[39;00m:\n\u001b[0;32m    350\u001b[0m     sample_weight \u001b[39m=\u001b[39m _check_sample_weight(sample_weight, X)\n",
      "File \u001b[1;32mc:\\Users\\hunte\\AppData\\Local\\Programs\\Python\\Python311\\Lib\\site-packages\\sklearn\\base.py:554\u001b[0m, in \u001b[0;36mBaseEstimator._validate_data\u001b[1;34m(self, X, y, reset, validate_separately, **check_params)\u001b[0m\n\u001b[0;32m    552\u001b[0m         y \u001b[39m=\u001b[39m check_array(y, input_name\u001b[39m=\u001b[39m\u001b[39m\"\u001b[39m\u001b[39my\u001b[39m\u001b[39m\"\u001b[39m, \u001b[39m*\u001b[39m\u001b[39m*\u001b[39mcheck_y_params)\n\u001b[0;32m    553\u001b[0m     \u001b[39melse\u001b[39;00m:\n\u001b[1;32m--> 554\u001b[0m         X, y \u001b[39m=\u001b[39m check_X_y(X, y, \u001b[39m*\u001b[39;49m\u001b[39m*\u001b[39;49mcheck_params)\n\u001b[0;32m    555\u001b[0m     out \u001b[39m=\u001b[39m X, y\n\u001b[0;32m    557\u001b[0m \u001b[39mif\u001b[39;00m \u001b[39mnot\u001b[39;00m no_val_X \u001b[39mand\u001b[39;00m check_params\u001b[39m.\u001b[39mget(\u001b[39m\"\u001b[39m\u001b[39mensure_2d\u001b[39m\u001b[39m\"\u001b[39m, \u001b[39mTrue\u001b[39;00m):\n",
      "File \u001b[1;32mc:\\Users\\hunte\\AppData\\Local\\Programs\\Python\\Python311\\Lib\\site-packages\\sklearn\\utils\\validation.py:1122\u001b[0m, in \u001b[0;36mcheck_X_y\u001b[1;34m(X, y, accept_sparse, accept_large_sparse, dtype, order, copy, force_all_finite, ensure_2d, allow_nd, multi_output, ensure_min_samples, ensure_min_features, y_numeric, estimator)\u001b[0m\n\u001b[0;32m   1104\u001b[0m X \u001b[39m=\u001b[39m check_array(\n\u001b[0;32m   1105\u001b[0m     X,\n\u001b[0;32m   1106\u001b[0m     accept_sparse\u001b[39m=\u001b[39maccept_sparse,\n\u001b[1;32m   (...)\u001b[0m\n\u001b[0;32m   1117\u001b[0m     input_name\u001b[39m=\u001b[39m\u001b[39m\"\u001b[39m\u001b[39mX\u001b[39m\u001b[39m\"\u001b[39m,\n\u001b[0;32m   1118\u001b[0m )\n\u001b[0;32m   1120\u001b[0m y \u001b[39m=\u001b[39m _check_y(y, multi_output\u001b[39m=\u001b[39mmulti_output, y_numeric\u001b[39m=\u001b[39my_numeric, estimator\u001b[39m=\u001b[39mestimator)\n\u001b[1;32m-> 1122\u001b[0m check_consistent_length(X, y)\n\u001b[0;32m   1124\u001b[0m \u001b[39mreturn\u001b[39;00m X, y\n",
      "File \u001b[1;32mc:\\Users\\hunte\\AppData\\Local\\Programs\\Python\\Python311\\Lib\\site-packages\\sklearn\\utils\\validation.py:397\u001b[0m, in \u001b[0;36mcheck_consistent_length\u001b[1;34m(*arrays)\u001b[0m\n\u001b[0;32m    395\u001b[0m uniques \u001b[39m=\u001b[39m np\u001b[39m.\u001b[39munique(lengths)\n\u001b[0;32m    396\u001b[0m \u001b[39mif\u001b[39;00m \u001b[39mlen\u001b[39m(uniques) \u001b[39m>\u001b[39m \u001b[39m1\u001b[39m:\n\u001b[1;32m--> 397\u001b[0m     \u001b[39mraise\u001b[39;00m \u001b[39mValueError\u001b[39;00m(\n\u001b[0;32m    398\u001b[0m         \u001b[39m\"\u001b[39m\u001b[39mFound input variables with inconsistent numbers of samples: \u001b[39m\u001b[39m%r\u001b[39;00m\u001b[39m\"\u001b[39m\n\u001b[0;32m    399\u001b[0m         \u001b[39m%\u001b[39m [\u001b[39mint\u001b[39m(l) \u001b[39mfor\u001b[39;00m l \u001b[39min\u001b[39;00m lengths]\n\u001b[0;32m    400\u001b[0m     )\n",
      "\u001b[1;31mValueError\u001b[0m: Found input variables with inconsistent numbers of samples: [4, 12120]"
     ]
    }
   ],
   "source": [
    "from sklearn.tree import export_graphviz\n",
    "# Export as dot file\n",
    "rf.fit(X_eng,y)\n",
    "feat_imp = rf.feature_importances_\n",
    "fig, ax = plt.subplots() \n",
    "width = 0.4 # the width of the bars \n",
    "ind = np.arange(len(feat_imp)) # the x locations for the groups\n",
    "col = [\"Premise Sentiment\",\"Hypothesis Sentiment\",\"Premise Length (Characters)\",\"Hypothesis Length (Characters)\",\n",
    "                                 \"Premise Length (Words)\", \"Hypothesis Length (Words)\", \"Premise Unique Words\", \"Hypothesis Unique Words\", \"Combined Unique Words\"]\n",
    "ax.barh(ind, feat_imp, width, color=\"green\")\n",
    "ax.set_yticks(ind+width/10)\n",
    "ax.set_yticklabels(col, minor=False)\n",
    "plt.title(\"Feature importance in RandomForest Classifier\")\n",
    "plt.xlabel(\"Relative importance\")\n",
    "plt.ylabel(\"feature\") \n",
    "plt.figure(figsize=(5,5))\n",
    "fig.set_size_inches(6.5, 4.5, forward=True)\n",
    "\n",
    "'''export_graphviz(rf, out_file='tree.dot', \n",
    "                feature_names = [\"Premise Sentiment\",\"Hypothesis Sentiment\",\"Premise Length (Characters)\",\"Hypothesis Length (Characters)\",\n",
    "                                 \"Premise Length (Words)\", \"Hypothesis Length (Words)\", \"Premise Unique Words\", \"Hypothesis Unique Words\", \"Combined Unique Words\"],\n",
    "                class_names = [\"Support\",\"Neutral\",\"Refute\"],\n",
    "                rounded = True, proportion = False, \n",
    "                precision = 2, filled = True)'''"
   ]
  },
  {
   "cell_type": "code",
   "execution_count": 25,
   "metadata": {},
   "outputs": [],
   "source": [
    "def apply_sum_funcs(s1,s2,lang_dummies=False):\n",
    "    sum_arr = []\n",
    "    #print(s1)\n",
    "    sum_arr.append(TextBlob(s1).sentiment.polarity+2)\n",
    "    sum_arr.append(TextBlob(s2).sentiment.polarity+2)\n",
    "    sum_arr.append(len(s1))\n",
    "    sum_arr.append(len(s2))\n",
    "    sum_arr.append(len(s1.split()))\n",
    "    sum_arr.append(len(s2.split()))\n",
    "    sum_arr.append(len(set(s1[0:-1].split())))\n",
    "    sum_arr.append(len(set(s2[0:-1].split())))\n",
    "    sum_arr.append(len(set((s1[0:-1] + \" \" + s2[0:-1]).split())))\n",
    "    #if lang_dummies:\n",
    "            #lang_arr = np.array(pd.get_dummies(trainRaw.iloc[:,-2]))\n",
    "            #for i in lang_arr.T:\n",
    "            #print i()\n",
    "                  #sum_arr.append(i)\n",
    "            #sum_arr.append(np.array((*(lang_arr.T))))\n",
    "\n",
    "    return np.array(sum_arr)\n"
   ]
  },
  {
   "cell_type": "code",
   "execution_count": 26,
   "metadata": {},
   "outputs": [
    {
     "data": {
      "text/plain": [
       "'reser'"
      ]
     },
     "execution_count": 26,
     "metadata": {},
     "output_type": "execute_result"
    }
   ],
   "source": [
    "testword = \"reser.\"\n",
    "testword[0:-1]"
   ]
  },
  {
   "cell_type": "code",
   "execution_count": 27,
   "metadata": {},
   "outputs": [
    {
     "name": "stdout",
     "output_type": "stream",
     "text": [
      "<class 'str'>\n"
     ]
    }
   ],
   "source": [
    "print(type(trainRaw.iloc[0,1]))"
   ]
  },
  {
   "cell_type": "code",
   "execution_count": 28,
   "metadata": {},
   "outputs": [
    {
     "data": {
      "text/plain": [
       "0"
      ]
     },
     "execution_count": 28,
     "metadata": {},
     "output_type": "execute_result"
    }
   ],
   "source": [
    "X_train[0,0]"
   ]
  },
  {
   "cell_type": "code",
   "execution_count": 29,
   "metadata": {},
   "outputs": [],
   "source": [
    "X_eng = np.array([apply_sum_funcs(trainRaw.iloc[i,1],trainRaw.iloc[i,2],lang_dummies=True) for i in np.arange(trainRaw.shape[0])])\n",
    "#lang_arr = np.array(pd.get_dummies(trainRaw.iloc[:,-2]))\n",
    "#for i in lang_arr.T:\n",
    "    #X_eng.append(i)\n",
    "#X_eng = np.array(X_eng)\n"
   ]
  },
  {
   "cell_type": "code",
   "execution_count": 80,
   "metadata": {},
   "outputs": [
    {
     "name": "stdout",
     "output_type": "stream",
     "text": [
      "['Arabic' 'Bulgarian' 'Chinese' 'English' 'French' 'German' 'Greek'\n",
      " 'Hindi' 'Russian' 'Spanish' 'Swahili' 'Thai' 'Turkish' 'Urdu'\n",
      " 'Vietnamese']\n"
     ]
    }
   ],
   "source": [
    "lang_arr = np.array(pd.get_dummies(trainRaw.iloc[:,-2]))\n",
    "lang_arr_test = pd.get_dummies(trainRaw.iloc[:,-2])\n",
    "lang_labs = np.array(lang_arr_test.columns)\n",
    "print(lang_labs)"
   ]
  },
  {
   "cell_type": "code",
   "execution_count": 31,
   "metadata": {},
   "outputs": [
    {
     "name": "stdout",
     "output_type": "stream",
     "text": [
      "(12120, 9)\n",
      "13.0\n"
     ]
    }
   ],
   "source": [
    "print(X_eng.shape)\n",
    "print(X_eng[0,-2])"
   ]
  },
  {
   "cell_type": "code",
   "execution_count": 32,
   "metadata": {},
   "outputs": [
    {
     "name": "stdout",
     "output_type": "stream",
     "text": [
      "(12120, 24)\n",
      "[ 2.   2.1 68.  81.  10.  14.  10.  13.  16.   0.   0.   0.   1.   0.\n",
      "  0.   0.   0.   0.   0.   0.   0.   0.   0.   0. ]\n"
     ]
    }
   ],
   "source": [
    "X_eng = np.hstack((X_eng,lang_arr))\n",
    "print(X_eng.shape)\n",
    "print(X_eng[0,:])"
   ]
  },
  {
   "cell_type": "code",
   "execution_count": 62,
   "metadata": {},
   "outputs": [],
   "source": [
    "X_train, X_test, y_train, y_test = model_selection.train_test_split(\n",
    "           X_eng, y, test_size = 0.2, random_state = 2023)\n",
    "X_train = np.array(X_train)\n",
    "y_train = np.array(y_train)"
   ]
  },
  {
   "cell_type": "code",
   "execution_count": 37,
   "metadata": {},
   "outputs": [
    {
     "name": "stdout",
     "output_type": "stream",
     "text": [
      "0.3815985232942879\n"
     ]
    }
   ],
   "source": [
    "#from sklearn.naive_bayes import MultinomialNB\n",
    "#clf = MultinomialNB()\n",
    "clf = RandomForestClassifier(n_estimators=100)\n",
    "clf.fit(X_train, y_train)\n",
    "\n",
    "test_val_rf = np.mean(cross_val_score(clf, X_train, y_train, cv=10,n_jobs=-1))\n",
    "print(test_val_rf)"
   ]
  },
  {
   "cell_type": "code",
   "execution_count": 90,
   "metadata": {},
   "outputs": [],
   "source": [
    "from sklearn.model_selection import cross_val_predict\n",
    "from sklearn.metrics import confusion_matrix\n",
    "y_pred = cross_val_predict(clf, X_train, y_train, cv=10)\n",
    "conf_mat = confusion_matrix(y_train, y_pred)"
   ]
  },
  {
   "cell_type": "code",
   "execution_count": 91,
   "metadata": {},
   "outputs": [
    {
     "name": "stdout",
     "output_type": "stream",
     "text": [
      "[[1355  876 1094]\n",
      " [ 944 1272  930]\n",
      " [1197 1035  993]]\n"
     ]
    }
   ],
   "source": [
    "print(conf_mat)"
   ]
  },
  {
   "cell_type": "code",
   "execution_count": 63,
   "metadata": {},
   "outputs": [
    {
     "name": "stdout",
     "output_type": "stream",
     "text": [
      "(2424, 24)\n",
      "[False False False ... False False False]\n",
      "(2424, 24)\n",
      "(2424,)\n",
      "[2 1 0 2 2 1 2 1 1 0 0 2 0 0 1 1 1 0 0 0 1 2 2 1 0 2 0 1 1 1 0 1 2 1 0 2 1\n",
      " 2 1 0 1 0 0 1 1 1 2 0 1 0 1 2 1 2 0 1 0 0 1 1 0 1 1 2 1 2 1 2 2 1 2 2 2 1\n",
      " 1 0 1 0 0 0 2 2 1 2 0]\n",
      "0.36470588235294116\n"
     ]
    }
   ],
   "source": [
    "i = 0\n",
    "print(X_test.shape)\n",
    "#print(X_test[:,9+i]==1)\n",
    "inds = X_test[:,9+i]==1\n",
    "#inds = X_test[X_test[:,9+i]==1]\n",
    "print(inds)\n",
    "print(X_test.shape)\n",
    "y_pred = clf.predict(X_test[inds])#X_test[:,9+i]==1])\n",
    "y_test = np.array(y_test)\n",
    "print(y_test.shape)\n",
    "y_test_lang = y_test[inds]#X_test[:,9+i]==1]\n",
    "print(y_test_lang)\n",
    "print(np.mean(y_pred==y_test_lang))\n",
    "#acc_array.append(np.mean(y_pred==y_test))"
   ]
  },
  {
   "cell_type": "code",
   "execution_count": 69,
   "metadata": {},
   "outputs": [
    {
     "name": "stdout",
     "output_type": "stream",
     "text": [
      "[0.3764705882352941, 0.3333333333333333, 0.30526315789473685, 0.3888059701492537, 0.42168674698795183, 0.47297297297297297, 0.38095238095238093, 0.36486486486486486, 0.3142857142857143, 0.3563218390804598, 0.45569620253164556, 0.27631578947368424, 0.27941176470588236, 0.2857142857142857, 0.4583333333333333]\n",
      "[0.40229885057471265, 0.5056179775280899, 0.2727272727272727, 0.3917525773195876, 0.4383561643835616, 0.359375, 0.358974358974359, 0.35135135135135137, 0.20270270270270271, 0.4, 0.43283582089552236, 0.39436619718309857, 0.22950819672131148, 0.28, 0.4044943820224719]\n",
      "[0.4375, 0.4, 0.313953488372093, 0.39985538684020244, 0.47368421052631576, 0.29411764705882354, 0.4157303370786517, 0.4153846153846154, 0.22972972972972974, 0.2972972972972973, 0.3561643835616438, 0.3157894736842105, 0.3333333333333333, 0.3333333333333333, 0.4794520547945205]\n",
      "[0.34615384615384615, 0.34782608695652173, 0.3076923076923077, 0.3739067055393586, 0.375, 0.323943661971831, 0.45901639344262296, 0.44155844155844154, 0.3380281690140845, 0.4838709677419355, 0.375, 0.24742268041237114, 0.42857142857142855, 0.3918918918918919, 0.5217391304347826]\n",
      "[0.475, 0.4716981132075472, 0.38271604938271603, 0.391804457225018, 0.3787878787878788, 0.35135135135135137, 0.4482758620689655, 0.3815789473684211, 0.35526315789473684, 0.4, 0.3333333333333333, 0.29333333333333333, 0.375, 0.34065934065934067, 0.4625]\n",
      "[0.4024390243902439, 0.425, 0.28378378378378377, 0.38064046579330424, 0.3076923076923077, 0.3333333333333333, 0.47058823529411764, 0.38571428571428573, 0.34146341463414637, 0.31645569620253167, 0.4166666666666667, 0.3783783783783784, 0.3888888888888889, 0.27941176470588236, 0.5294117647058824]\n",
      "[0.32926829268292684, 0.421875, 0.26506024096385544, 0.36310820624546114, 0.4235294117647059, 0.4225352112676056, 0.4868421052631579, 0.379746835443038, 0.325, 0.3880597014925373, 0.3835616438356164, 0.34615384615384615, 0.36923076923076925, 0.4166666666666667, 0.4305555555555556]\n",
      "[0.4025974025974026, 0.2608695652173913, 0.33783783783783783, 0.39151943462897526, 0.4090909090909091, 0.4153846153846154, 0.44155844155844154, 0.410958904109589, 0.36666666666666664, 0.4142857142857143, 0.4266666666666667, 0.3194444444444444, 0.34375, 0.3283582089552239, 0.5128205128205128]\n",
      "[0.4444444444444444, 0.4142857142857143, 0.32142857142857145, 0.38071065989847713, 0.2926829268292683, 0.29411764705882354, 0.3333333333333333, 0.3488372093023256, 0.3492063492063492, 0.4025974025974026, 0.3372093023255814, 0.4084507042253521, 0.3064516129032258, 0.40540540540540543, 0.46153846153846156]\n",
      "[0.48148148148148145, 0.35, 0.29411764705882354, 0.3966275659824047, 0.30952380952380953, 0.44285714285714284, 0.4186046511627907, 0.34210526315789475, 0.29577464788732394, 0.37142857142857144, 0.44285714285714284, 0.38271604938271603, 0.3835616438356164, 0.3026315789473684, 0.5064935064935064]\n"
     ]
    }
   ],
   "source": [
    "mean_array = []\n",
    "for i in np.arange(10):\n",
    "    X_train, X_test, y_train, y_test = model_selection.train_test_split(\n",
    "           X_eng, y, test_size = 0.2)\n",
    "    clf.fit(X_train, y_train)\n",
    "\n",
    "    y_pred = clf.predict(X_test)\n",
    "    #print((y_test,y_pred))\n",
    "    #print(np.mean(y_pred==y_test))\n",
    "    acc_array = []\n",
    "    for i in np.arange(15):\n",
    "        #9+i\n",
    "        inds = X_test[:,9+i]==1\n",
    "        y_pred = clf.predict(X_test[inds])#X_test[:,9+i]==1])\n",
    "        y_test = np.array(y_test)\n",
    "        y_test_lang = y_test[inds]#X_test[:,9+i]==1]\n",
    "        acc_array.append(np.mean(y_pred==y_test_lang))\n",
    "        '''inds = X_test[X_test[9+i]==1]\n",
    "        print(inds)\n",
    "        print(X_test.shape)\n",
    "        y_pred = clf.predict(X_test[X_test[:,9+i]==1,:])\n",
    "        y_test = y_test[X_test[9+i]==1,:]\n",
    "        acc_array.append(np.mean(y_pred==y_test))'''\n",
    "    print(acc_array)\n",
    "    mean_array.append(acc_array)\n",
    "mean_array = np.array(mean_array)"
   ]
  },
  {
   "cell_type": "code",
   "execution_count": 89,
   "metadata": {},
   "outputs": [
    {
     "data": {
      "image/png": "[encoded data removed]",
      "text/plain": [
       "<Figure size 640x480 with 1 Axes>"
      ]
     },
     "metadata": {},
     "output_type": "display_data"
    }
   ],
   "source": [
    "means_lang = np.mean(mean_array,axis=0)\n",
    "labs = [\"A\",\"B\",\"C\",\"D\",\"E\",\"F\",\"G\",\"H\",\"I\",\"J\",\"K\",\"L\",\"M\",\"N\",\"O\"]\n",
    "bar = plt.barh(lang_labs,means_lang)\n",
    "plt.xlabel(\"Language\")\n",
    "plt.ylabel(\"Mean Classification Accuracy (across 10 folds)\")\n",
    "plt.gca().invert_yaxis()\n",
    "\n",
    "#.gca().invert_xaxis()\n",
    "#plt.show()\n",
    "#plt.legend([\"Premise 1\", \"Hypothesis 1\",\"Premise 2\", \"Hypothesis 2\",\"Premise 3\", \"Hypothesis 3\"])"
   ]
  }
 ],
 "metadata": {
  "kernelspec": {
   "display_name": "Python 3",
   "language": "python",
   "name": "python3"
  },
  "language_info": {
   "codemirror_mode": {
    "name": "ipython",
    "version": 3
   },
   "file_extension": ".py",
   "mimetype": "text/x-python",
   "name": "python",
   "nbconvert_exporter": "python",
   "pygments_lexer": "ipython3",
   "version": "3.11.1"
  },
  "orig_nbformat": 4,
  "vscode": {
   "interpreter": {
    "hash": "2993cc858b770212d255d4a67ebe491a9587de5d4a2b2894d3038b229a1d24a7"
   }
  }
 },
 "nbformat": 4,
 "nbformat_minor": 2
}
